{
 "cells": [
  {
   "cell_type": "code",
   "execution_count": 1,
   "metadata": {},
   "outputs": [],
   "source": [
    "# connecting to the database, and making a cursor\n",
    "\n",
    "import sqlite3\n",
    "\n",
    "conn = sqlite3.connect(\"school.db\")\n",
    "c = conn.cursor()\n",
    "\n",
    "# need to close when done!\n",
    "conn.close()"
   ]
  },
  {
   "cell_type": "code",
   "execution_count": 3,
   "metadata": {},
   "outputs": [],
   "source": [
    "# executing statements\n",
    "import sqlite3\n",
    "\n",
    "conn = sqlite3.connect(\"school.db\")\n",
    "c = conn.cursor()\n",
    "\n",
    "c.execute(\n",
    "    \"\"\"\n",
    "    CREATE TABLE IF NOT EXISTS Students(\n",
    "        ExamNo INTEGER PRIMARY KEY,\n",
    "        Name TEXT,\n",
    "        Class Text\n",
    "    );\n",
    "    \"\"\"\n",
    ")\n",
    "\n",
    "# to keep changes, we need to commit them\n",
    "conn.commit()\n",
    "\n",
    "# need to close when done!\n",
    "conn.close()"
   ]
  },
  {
   "cell_type": "code",
   "execution_count": 6,
   "metadata": {},
   "outputs": [],
   "source": [
    "# executing statements\n",
    "import sqlite3\n",
    "\n",
    "conn = sqlite3.connect(\"school.db\")\n",
    "c = conn.cursor()\n",
    "\n",
    "c.execute(\n",
    "    \"\"\"\n",
    "    INSERT INTO Students VALUES(\n",
    "        2, \"Ashton Too\", \"23S56\"\n",
    "    );\n",
    "    \"\"\"\n",
    ")\n",
    "\n",
    "# to keep changes, we need to commit them\n",
    "conn.commit()\n",
    "\n",
    "# need to close when done!\n",
    "conn.close()"
   ]
  },
  {
   "cell_type": "code",
   "execution_count": 7,
   "metadata": {},
   "outputs": [],
   "source": [
    "# Inserting data with variables\n",
    "# executing statements\n",
    "import sqlite3\n",
    "\n",
    "conn = sqlite3.connect(\"school.db\")\n",
    "c = conn.cursor()\n",
    "\n",
    "ExamNo = 7\n",
    "Name = \"Kevin Chua\"\n",
    "Class = \"23S56\"\n",
    "\n",
    "statement = \"\"\"\n",
    "    INSERT INTO Students VALUES(\n",
    "        ?,?,?\n",
    "    );\n",
    "\"\"\"\n",
    "\n",
    "c.execute(statement,[ExamNo, Name, Class])\n",
    "\n",
    "# to keep changes, we need to commit them\n",
    "conn.commit()\n",
    "\n",
    "# need to close when done!\n",
    "conn.close()"
   ]
  },
  {
   "cell_type": "code",
   "execution_count": 8,
   "metadata": {},
   "outputs": [
    {
     "name": "stdout",
     "output_type": "stream",
     "text": [
      "(2, 'Ashton Too', '23S56')\n",
      "[(2, 'Ashton Too', '23S56'), (7, 'Kevin Chua', '23S56')]\n"
     ]
    }
   ],
   "source": [
    "# Retrieving\n",
    "\n",
    "# Inserting data with variables\n",
    "# executing statements\n",
    "import sqlite3\n",
    "\n",
    "conn = sqlite3.connect(\"school.db\")\n",
    "c = conn.cursor()\n",
    "\n",
    "c.execute(\"SELECT * FROM Students\")\n",
    "\n",
    "print(c.fetchone())\n",
    "\n",
    "c.execute(\"SELECT * FROM Students\")\n",
    "\n",
    "print(c.fetchall())\n",
    "\n",
    "\n",
    "# need to close when done!\n",
    "conn.close()"
   ]
  }
 ],
 "metadata": {
  "kernelspec": {
   "display_name": "Python 3",
   "language": "python",
   "name": "python3"
  },
  "language_info": {
   "codemirror_mode": {
    "name": "ipython",
    "version": 3
   },
   "file_extension": ".py",
   "mimetype": "text/x-python",
   "name": "python",
   "nbconvert_exporter": "python",
   "pygments_lexer": "ipython3",
   "version": "3.12.2"
  }
 },
 "nbformat": 4,
 "nbformat_minor": 2
}
