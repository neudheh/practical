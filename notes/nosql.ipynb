{
 "cells": [
  {
   "cell_type": "code",
   "execution_count": 27,
   "metadata": {},
   "outputs": [
    {
     "name": "stdout",
     "output_type": "stream",
     "text": [
      "['admin', 'config', 'entertainment', 'local']\n",
      "['movies']\n"
     ]
    }
   ],
   "source": [
    "# creating a client, database, and collection\n",
    "\n",
    "from pymongo import MongoClient\n",
    "\n",
    "client = MongoClient()\n",
    "db = client.get_database(\"entertainment\")\n",
    "coll = db.get_collection(\"movies\")\n",
    "\n",
    "coll.insert_one({\"_id\": 1, \"title\": \"Johnny Maths\", \"genre\": \"Comedy\"})\n",
    "\n",
    "print(list(client.list_database_names()))\n",
    "print(list(db.list_collection_names()))\n",
    "\n",
    "client.close()"
   ]
  },
  {
   "cell_type": "code",
   "execution_count": 28,
   "metadata": {},
   "outputs": [],
   "source": [
    "client = MongoClient()\n",
    "db = client.get_database(\"entertainment\")\n",
    "coll = db.get_collection(\"movies\")\n",
    "\n",
    "movies = [\n",
    "\t\t{\"title\":\"Badman\", \"genre\":\"adventure\", \"year\":2015},  \n",
    "\t\t{\"title\":\"Averages\", \"genre\":[\"science fiction\",\"adventure\"], \"year\":2017},  \n",
    "\t\t{\"title\":\"Octopus Man\", \"genre\":\"adventure\", \"year\":2017},  \n",
    "\t\t{\"title\":\"Fantastic Bees\", \"genre\":\"adventure\", \"year\":2018},  \n",
    "\t\t{\"title\":\"Underground\", \"genre\":\"horror\", \"year\":2014}\n",
    "]\n",
    "coll.insert_many(movies)\n",
    "\n",
    "client.close()"
   ]
  },
  {
   "cell_type": "code",
   "execution_count": 29,
   "metadata": {},
   "outputs": [
    {
     "name": "stdout",
     "output_type": "stream",
     "text": [
      "{'_id': 1, 'title': 'Johnny Maths', 'genre': 'Comedy'}\n"
     ]
    }
   ],
   "source": [
    "client = MongoClient()\n",
    "db = client.get_database(\"entertainment\")\n",
    "coll = db.get_collection(\"movies\")\n",
    "\n",
    "print(coll.find_one({\"title\":\"Johnny Maths\"}))\n",
    "\n",
    "client.close()"
   ]
  },
  {
   "cell_type": "code",
   "execution_count": 30,
   "metadata": {},
   "outputs": [
    {
     "name": "stdout",
     "output_type": "stream",
     "text": [
      "Averages\n",
      "Octopus Man\n",
      "Fantastic Bees\n"
     ]
    }
   ],
   "source": [
    "client = MongoClient()\n",
    "db = client.get_database(\"entertainment\")\n",
    "coll = db.get_collection(\"movies\")\n",
    "\n",
    "results = coll.find({\"year\":{\"$gt\":2015}})\n",
    "\n",
    "for i in results:\n",
    "    print(i.get(\"title\"))\n",
    "\n",
    "client.close()"
   ]
  },
  {
   "cell_type": "code",
   "execution_count": 31,
   "metadata": {},
   "outputs": [
    {
     "data": {
      "text/plain": [
       "UpdateResult({'n': 0, 'nModified': 0, 'ok': 1.0, 'updatedExisting': False}, acknowledged=True)"
      ]
     },
     "execution_count": 31,
     "metadata": {},
     "output_type": "execute_result"
    }
   ],
   "source": [
    "client = MongoClient()\n",
    "db = client.get_database(\"entertainment\")\n",
    "coll = db.get_collection(\"movies\")\n",
    "\n",
    "query = {\"year\": {\"$gt\": 2016}}\n",
    "update = {\"$set\": {\"year\": 2015}}\n",
    "\n",
    "coll.update_one(query, update)\n",
    "coll.update_many(query, update)\n",
    "\n",
    "# remove a field\n",
    "# the number after year does not matter\n",
    "coll.update_one(query, {\"$unset\":{\"year\":0}})\n",
    "\n",
    "client.close()"
   ]
  },
  {
   "cell_type": "code",
   "execution_count": 34,
   "metadata": {},
   "outputs": [
    {
     "data": {
      "text/plain": [
       "DeleteResult({'n': 2, 'ok': 1.0}, acknowledged=True)"
      ]
     },
     "execution_count": 34,
     "metadata": {},
     "output_type": "execute_result"
    }
   ],
   "source": [
    "client = MongoClient()\n",
    "db = client.get_database(\"entertainment\")\n",
    "coll = db.get_collection(\"movies\")\n",
    "\n",
    "coll.delete_one({\"year\": 2015})\n",
    "coll.delete_many({\"year\": 2015})\n",
    "# deletes all the records\n",
    "coll.delete_many({})"
   ]
  },
  {
   "cell_type": "code",
   "execution_count": 35,
   "metadata": {},
   "outputs": [],
   "source": [
    "client = MongoClient()\n",
    "db = client.get_database(\"entertainment\")\n",
    "coll = db.get_collection(\"movies\")\n",
    "\n",
    "db.drop_collection(\"movies\")\n",
    "client.drop_database(\"entertainment\")"
   ]
  }
 ],
 "metadata": {
  "kernelspec": {
   "display_name": "Python 3",
   "language": "python",
   "name": "python3"
  },
  "language_info": {
   "codemirror_mode": {
    "name": "ipython",
    "version": 3
   },
   "file_extension": ".py",
   "mimetype": "text/x-python",
   "name": "python",
   "nbconvert_exporter": "python",
   "pygments_lexer": "ipython3",
   "version": "3.12.2"
  }
 },
 "nbformat": 4,
 "nbformat_minor": 2
}
