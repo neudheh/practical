{
 "cells": [
  {
   "cell_type": "code",
   "execution_count": 3,
   "metadata": {},
   "outputs": [
    {
     "data": {
      "text/plain": [
       "'10000111'"
      ]
     },
     "execution_count": 3,
     "metadata": {},
     "output_type": "execute_result"
    }
   ],
   "source": [
    "# denary to binary - method 1: division\n",
    "# 1: divide the number by 2\n",
    "# 2: take the remainder and store it\n",
    "# 3: repeat with the quotient untill the number is zero\n",
    "# 4: reverse the remainders to get the number\n",
    "\n",
    "def denary_to_binary(dernary):\n",
    "    remainders = \"\"\n",
    "    while dernary > 0:\n",
    "        remainders += str(dernary % 2)\n",
    "        dernary //= 2\n",
    "    return remainders[::-1]\n",
    "\n",
    "denary_to_binary(135)"
   ]
  },
  {
   "cell_type": "code",
   "execution_count": 13,
   "metadata": {},
   "outputs": [
    {
     "data": {
      "text/plain": [
       "'10000111'"
      ]
     },
     "execution_count": 13,
     "metadata": {},
     "output_type": "execute_result"
    }
   ],
   "source": [
    "# denary to binary - method 2: place values table\n",
    "# 1: make a table of numbers\n",
    "# 2: loop through each number and if it is smaller than the denary number, subtract it from the dernary number\n",
    "# 3: add a 1 if it is bigger or equal to and a 0 if it is smalller\n",
    "\n",
    "def denary_to_binary(denary):\n",
    "    binary = \"\"\n",
    "    curr = 0\n",
    "    powers = []\n",
    "    while 2**curr < denary:\n",
    "        powers.append(2**curr)\n",
    "        curr += 1\n",
    "    \n",
    "    powers.reverse()\n",
    "    \n",
    "    for power in powers:\n",
    "        if denary >= power:\n",
    "            binary += \"1\"\n",
    "            denary -= power\n",
    "        else:\n",
    "            binary += \"0\"\n",
    "    \n",
    "    return binary\n",
    "\n",
    "denary_to_binary(135)"
   ]
  },
  {
   "cell_type": "code",
   "execution_count": 14,
   "metadata": {},
   "outputs": [
    {
     "data": {
      "text/plain": [
       "'76B'"
      ]
     },
     "execution_count": 14,
     "metadata": {},
     "output_type": "execute_result"
    }
   ],
   "source": [
    "# dernary to hexadecimal - division\n",
    "# same as dernary to binary for the first method but now with hexadecimal digits\n",
    "\n",
    "def denary_to_hexadecimal(dernary):\n",
    "    hexadecimal_digits = \"0123456789ABCDEF\"\n",
    "    remainders = \"\"\n",
    "    while dernary > 0:\n",
    "        remainders += hexadecimal_digits[dernary % 16]\n",
    "        dernary //= 16\n",
    "    return remainders[::-1]\n",
    "\n",
    "denary_to_hexadecimal(1899)"
   ]
  },
  {
   "cell_type": "code",
   "execution_count": 19,
   "metadata": {},
   "outputs": [
    {
     "data": {
      "text/plain": [
       "135"
      ]
     },
     "execution_count": 19,
     "metadata": {},
     "output_type": "execute_result"
    }
   ],
   "source": [
    "# binary to dernary - multiplication\n",
    "# multiply each digit to its corresponding power\n",
    "\n",
    "def binary_to_dernary(binary):\n",
    "    total = 0\n",
    "    for i in range(len(binary)):\n",
    "        curr_power = len(binary) - i - 1\n",
    "        total += int(binary[i]) * (2 ** curr_power)\n",
    "    return total\n",
    "\n",
    "binary_to_dernary(\"10000111\")"
   ]
  },
  {
   "cell_type": "code",
   "execution_count": 21,
   "metadata": {},
   "outputs": [
    {
     "data": {
      "text/plain": [
       "'76B'"
      ]
     },
     "execution_count": 21,
     "metadata": {},
     "output_type": "execute_result"
    }
   ],
   "source": [
    "# binary to hexadecimal - dictionary\n",
    "# create a dictionary of evey hexadecimal digit converted to binary\n",
    "# take every 4 numbers of the binary number and convert it to hexadecimal\n",
    "\n",
    "def binary_to_hexadecimal(binary):\n",
    "    # making the length a multiple of 4\n",
    "    if len(binary) % 4 != 0:\n",
    "        digits_to_add = 4 - (len(binary) % 4)\n",
    "        binary = \"0\" * digits_to_add + binary\n",
    "    \n",
    "    binary_dictionary = {\n",
    "        \"0000\": \"0\",\n",
    "        \"0001\": \"1\",\n",
    "        \"0010\": \"2\",\n",
    "        \"0011\": \"3\",\n",
    "        \"0100\": \"4\",\n",
    "        \"0101\": \"5\",\n",
    "        \"0110\": \"6\",\n",
    "        \"0111\": \"7\",\n",
    "        \"1000\": \"8\",\n",
    "        \"1001\": \"9\",\n",
    "        \"1010\": \"A\",\n",
    "        \"1011\": \"B\",\n",
    "        \"1100\": \"C\",\n",
    "        \"1101\": \"D\",\n",
    "        \"1110\": \"E\",\n",
    "        \"1111\": \"F\"\n",
    "    }\n",
    "\n",
    "    hexadecimal = \"\"\n",
    "    while binary:\n",
    "        hexadecimal += binary_dictionary[binary[:4]]\n",
    "        binary = binary[4:]\n",
    "    \n",
    "    return hexadecimal\n",
    "\n",
    "binary_to_hexadecimal(\"011101101011\")"
   ]
  },
  {
   "cell_type": "code",
   "execution_count": 22,
   "metadata": {},
   "outputs": [
    {
     "data": {
      "text/plain": [
       "1899"
      ]
     },
     "execution_count": 22,
     "metadata": {},
     "output_type": "execute_result"
    }
   ],
   "source": [
    "# hexadecimal to denary - multiplication\n",
    "# multiply each digit by its place value\n",
    "\n",
    "def hexadecimal_to_dernary(hex):\n",
    "    total = 0\n",
    "    hexadecimal_digits = \"0123456789ABCDEF\"\n",
    "    for i in range(len(hex)):\n",
    "        curr_power = len(hex) - i - 1\n",
    "        total += hexadecimal_digits.index(hex[i]) * (16 ** curr_power)\n",
    "    return total\n",
    "\n",
    "hexadecimal_to_dernary(\"76B\")"
   ]
  },
  {
   "cell_type": "code",
   "execution_count": 36,
   "metadata": {},
   "outputs": [
    {
     "data": {
      "text/plain": [
       "'11101101011'"
      ]
     },
     "execution_count": 36,
     "metadata": {},
     "output_type": "execute_result"
    }
   ],
   "source": [
    "# hexadecimal to binary - dictionary\n",
    "# reverse of binary to hexadecimal\n",
    "\n",
    "def hexadecinal_to_binary(hex):\n",
    "    hex_dictionary = {\n",
    "        '0': '0000',\n",
    "        '1': '0001',\n",
    "        '2': '0010',\n",
    "        '3': '0011',\n",
    "        '4': '0100',\n",
    "        '5': '0101', \n",
    "        '6': '0110', \n",
    "        '7': '0111', \n",
    "        '8': '1000', \n",
    "        '9': '1001', \n",
    "        'A': '1010', \n",
    "        'B': '1011', \n",
    "        'C': '1100', \n",
    "        'D': '1101', \n",
    "        'E': '1110', \n",
    "        'F': '1111'\n",
    "    }\n",
    "    binary = \"\"\n",
    "    for i in hex:\n",
    "        binary += hex_dictionary[i]\n",
    "\n",
    "    # trimming off leading zeros\n",
    "    if binary != \"0000\":\n",
    "        binary = binary.lstrip(\"0\")\n",
    "    else:\n",
    "        binary = \"0\"\n",
    "\n",
    "    return binary\n",
    "\n",
    "\n",
    "hexadecinal_to_binary(\"76B\")"
   ]
  }
 ],
 "metadata": {
  "kernelspec": {
   "display_name": "Python 3",
   "language": "python",
   "name": "python3"
  },
  "language_info": {
   "codemirror_mode": {
    "name": "ipython",
    "version": 3
   },
   "file_extension": ".py",
   "mimetype": "text/x-python",
   "name": "python",
   "nbconvert_exporter": "python",
   "pygments_lexer": "ipython3",
   "version": "3.12.2"
  }
 },
 "nbformat": 4,
 "nbformat_minor": 2
}
