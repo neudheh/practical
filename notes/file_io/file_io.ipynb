{
 "cells": [
  {
   "cell_type": "code",
   "execution_count": 6,
   "metadata": {},
   "outputs": [
    {
     "name": "stdout",
     "output_type": "stream",
     "text": [
      "Kendrick Lamar\n",
      "Drake\n",
      "Kendrick Lamar\n",
      "Drake\n"
     ]
    }
   ],
   "source": [
    "# ---- text.txt ---- #\n",
    "# Kendrick Lamar\n",
    "# Drake\n",
    "# Kendrick Lamar\n",
    "# Drake\n",
    "\n",
    "# opening and reading a file\n",
    "with open(\"text.txt\") as file: # automatically closes file after the with block\n",
    "    text = file.read()\n",
    "print(text)"
   ]
  },
  {
   "cell_type": "code",
   "execution_count": 7,
   "metadata": {},
   "outputs": [
    {
     "name": "stdout",
     "output_type": "stream",
     "text": [
      "Kendrick Lamar\n",
      "\n"
     ]
    }
   ],
   "source": [
    "# readline\n",
    "with open(\"text.txt\") as file: # automatically closes file after the with block\n",
    "    text = file.readline()\n",
    "print(text)"
   ]
  },
  {
   "cell_type": "code",
   "execution_count": 8,
   "metadata": {},
   "outputs": [
    {
     "name": "stdout",
     "output_type": "stream",
     "text": [
      "['Kendrick Lamar\\n', 'Drake\\n', 'Kendrick Lamar\\n', 'Drake']\n"
     ]
    }
   ],
   "source": [
    "# readlines\n",
    "with open(\"text.txt\") as file: # automatically closes file after the with block\n",
    "    text = file.readlines()\n",
    "print(text)"
   ]
  },
  {
   "cell_type": "code",
   "execution_count": 14,
   "metadata": {},
   "outputs": [
    {
     "name": "stdout",
     "output_type": "stream",
     "text": [
      "Line 1Line 2\n",
      "Line 3\n"
     ]
    }
   ],
   "source": [
    "# overwriting a file's contents\n",
    "with open(\"text.txt\", \"w\") as file: # automatically closes file after the with block\n",
    "    file.write(\"Line 1\")\n",
    "    file.write(\"Line 2\\n\")\n",
    "    file.write(\"Line 3\")\n",
    "\n",
    "with open(\"text.txt\") as file: # automatically closes file after the with block\n",
    "    text = file.read()\n",
    "print(text)"
   ]
  },
  {
   "cell_type": "code",
   "execution_count": 15,
   "metadata": {},
   "outputs": [
    {
     "name": "stdout",
     "output_type": "stream",
     "text": [
      "Line 1Line 2\n",
      "Line 3Line 4\n"
     ]
    }
   ],
   "source": [
    "# appending to a file's constnest\n",
    "with open(\"text.txt\", \"a\") as file: # automatically closes file after the with block\n",
    "    file.write(\"Line 4\")\n",
    "\n",
    "with open(\"text.txt\") as file: # automatically closes file after the with block\n",
    "    text = file.read()\n",
    "print(text)"
   ]
  },
  {
   "cell_type": "code",
   "execution_count": 16,
   "metadata": {},
   "outputs": [],
   "source": [
    "# clearing a file\n",
    "with open(\"text.txt\", \"w\") as file: # automatically closes file after the with block\n",
    "    pass"
   ]
  },
  {
   "cell_type": "code",
   "execution_count": 18,
   "metadata": {},
   "outputs": [
    {
     "name": "stdout",
     "output_type": "stream",
     "text": [
      "HelloWorld\n",
      "Hi\n",
      "Mom!\n"
     ]
    }
   ],
   "source": [
    "# writelines\n",
    "with open(\"text.txt\", \"w\") as file: # automatically closes file after the with block\n",
    "    file.writelines([\"Hello\", \"World\\n\", \"Hi\\n\", \"Mom!\"])\n",
    "\n",
    "with open(\"text.txt\") as file: # automatically closes file after the with block\n",
    "    text = file.read()\n",
    "print(text)"
   ]
  },
  {
   "cell_type": "code",
   "execution_count": 26,
   "metadata": {},
   "outputs": [
    {
     "name": "stdout",
     "output_type": "stream",
     "text": [
      "[['Album Name', 'Artist', 'Rating'], ['Blonde', 'Frank Ocean', '10'], ['DAMN.', 'Kendrick Lamar', '10']]\n"
     ]
    }
   ],
   "source": [
    "# csv\n",
    "import csv\n",
    "\n",
    "data = []\n",
    "\n",
    "with open(\"albums.csv\") as file: # automatically closes file after the with block\n",
    "    reader = csv.reader(file)\n",
    "    for line in reader:\n",
    "        data.append(line)\n",
    "\n",
    "print(data)"
   ]
  },
  {
   "cell_type": "code",
   "execution_count": 27,
   "metadata": {},
   "outputs": [
    {
     "name": "stdout",
     "output_type": "stream",
     "text": [
      "['Album Name', 'Artist', 'Rating']\n",
      "[['Blonde', 'Frank Ocean', '10'], ['DAMN.', 'Kendrick Lamar', '10']]\n"
     ]
    }
   ],
   "source": [
    "# saving header and data\n",
    "import csv\n",
    "\n",
    "data = []\n",
    "\n",
    "with open(\"albums.csv\") as file: # automatically closes file after the with block\n",
    "    reader = csv.reader(file)\n",
    "    header = next(reader)\n",
    "    for line in reader:\n",
    "        data.append(line)\n",
    "\n",
    "print(header)\n",
    "print(data)"
   ]
  },
  {
   "cell_type": "code",
   "execution_count": 41,
   "metadata": {},
   "outputs": [
    {
     "name": "stdout",
     "output_type": "stream",
     "text": [
      "['Album Name', 'Artist', 'Rating']\n",
      "['Blonde', 'Frank Ocean', '10']\n",
      "['DAMN.', 'Kendrick Lamar', '10']\n"
     ]
    }
   ],
   "source": [
    "# writerow and writerows\n",
    "\n",
    "import csv\n",
    "\n",
    "# idk why my csv is tweaking, ignore the newline thinggy\n",
    "with open(\"albums.csv\", \"w\", newline=\"\\n\") as file: # automatically closes file after the with block\n",
    "    writer = csv.writer(file)\n",
    "    writer.writerow([\"Album Name\",\"Artist\",\"Rating\"])\n",
    "    writer.writerows([[\"Blonde\", \"Frank Ocean\", \"10\"], [\"DAMN.\", \"Kendrick Lamar\", '10']])\n",
    "\n",
    "with open(\"albums.csv\", \"r\") as file: #immediatley closes the file after with block\n",
    "    reader = csv.reader(file)\n",
    "    for i in reader:\n",
    "        print(i)"
   ]
  },
  {
   "cell_type": "code",
   "execution_count": 43,
   "metadata": {},
   "outputs": [
    {
     "name": "stdout",
     "output_type": "stream",
     "text": [
      "{'Name': 'IGOR', 'Artist': 'Tyler, The Creator', 'Length': '39:46', 'Tracklist': [\"IGOR'S THEME\", 'EARFQUAKE', 'I THINK', 'EXACTLY WHAT YOU RUN FROM YOU END UP CHASING', 'RUNNING OUT OF TIME', 'NEW MAGIC WAND', 'A BOY IS A GUN *', 'PUPPET', \"WHAT'S GOOD\", 'GONE GONE / THANK YOU', \"I DON'T LOVE YOU ANYMORE\", 'ARE WE STILL FRIENDS?']}\n"
     ]
    }
   ],
   "source": [
    "# json\n",
    "\n",
    "import json\n",
    "\n",
    "album_info = {\n",
    "                \"Name\": \"IGOR\",\n",
    "                \"Artist\":\"Tyler, The Creator\",\n",
    "                \"Length\": \"39:46\",\n",
    "                \"Tracklist\": [\n",
    "                    \"IGOR'S THEME\", \"EARFQUAKE\", \"I THINK\", \n",
    "                    \"EXACTLY WHAT YOU RUN FROM YOU END UP CHASING\", \n",
    "                    \"RUNNING OUT OF TIME\", \"NEW MAGIC WAND\",\n",
    "                    \"A BOY IS A GUN *\", \"PUPPET\", \"WHAT'S GOOD\",\n",
    "                    \"GONE GONE / THANK YOU\", \"I DON'T LOVE YOU ANYMORE\",\n",
    "                    \"ARE WE STILL FRIENDS?\"\n",
    "                ]\n",
    "            }\n",
    "with open(\"album.json\", \"w\") as file: # automatically closes file after the with block\n",
    "   json.dump(album_info,file)\n",
    "\n",
    "with open(\"album.json\") as file: # automatically closes file after the with block\n",
    "   data = json.load(file)\n",
    "print(data)"
   ]
  }
 ],
 "metadata": {
  "kernelspec": {
   "display_name": "Python 3",
   "language": "python",
   "name": "python3"
  },
  "language_info": {
   "codemirror_mode": {
    "name": "ipython",
    "version": 3
   },
   "file_extension": ".py",
   "mimetype": "text/x-python",
   "name": "python",
   "nbconvert_exporter": "python",
   "pygments_lexer": "ipython3",
   "version": "3.12.2"
  }
 },
 "nbformat": 4,
 "nbformat_minor": 2
}
