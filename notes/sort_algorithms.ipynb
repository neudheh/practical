{
 "cells": [
  {
   "cell_type": "code",
   "execution_count": 2,
   "metadata": {},
   "outputs": [
    {
     "name": "stdout",
     "output_type": "stream",
     "text": [
      "[2, 4, 7, 9, 12, 16, 36, 45, 56, 83]\n"
     ]
    }
   ],
   "source": [
    "# bubble sort\n",
    "\n",
    "def bubble_sort(array):\n",
    "    # n - 1 passes\n",
    "    for passes in range(len(array) - 1):\n",
    "        # loop through each element, and switch if it is bigger\n",
    "        for i in range(len(array) - 1 - passes):\n",
    "            if array[i] > array[i+1]:\n",
    "                array[i], array[i+1] = array[i+1], array[i]\n",
    "\n",
    "A = [56,2,45,9,7,83,12,36,4,16]\n",
    "bubble_sort(A)\n",
    "print(A)"
   ]
  },
  {
   "cell_type": "code",
   "execution_count": 4,
   "metadata": {},
   "outputs": [
    {
     "name": "stdout",
     "output_type": "stream",
     "text": [
      "[2, 4, 7, 9, 12, 16, 36, 45, 56, 83]\n"
     ]
    }
   ],
   "source": [
    "# optimised bubble sort\n",
    "\n",
    "def optimised_bubble_sort(array):\n",
    "    swapped = True\n",
    "    passes = 0\n",
    "    # while there has been a swap (i.e. array is not sorted)\n",
    "    while swapped:\n",
    "        swapped = False\n",
    "        # loop through each element, and switch if it is bigger\n",
    "        for i in range(len(array) - 1 - passes):\n",
    "            if array[i] > array[i+1]:\n",
    "                array[i], array[i+1] = array[i+1], array[i]\n",
    "                swapped = True\n",
    "        passes += 1\n",
    "\n",
    "A = [56,2,45,9,7,83,12,36,4,16]\n",
    "optimised_bubble_sort(A)\n",
    "print(A)"
   ]
  },
  {
   "cell_type": "code",
   "execution_count": 13,
   "metadata": {},
   "outputs": [
    {
     "name": "stdout",
     "output_type": "stream",
     "text": [
      "[2, 4, 7, 9, 12, 16, 36, 45, 56, 83]\n"
     ]
    }
   ],
   "source": [
    "# insertion sort\n",
    "\n",
    "def insertion_sort(array):\n",
    "    # for every element in the array\n",
    "    for i in range(1, len(array)):\n",
    "        # gets the first element in the unsorted list\n",
    "        curr = array[i]\n",
    "        position = i\n",
    "        # traverses down the sorted list, and if the item in front is not in the right place, shift it by one\n",
    "        while position > 0 and curr < array[position - 1]:\n",
    "            array[position] = array[position - 1]\n",
    "            position -= 1\n",
    "        # update the position of the sorted list to have the element\n",
    "        array[position] = curr\n",
    "\n",
    "A = [56,2,45,9,7,83,12,36,4,16]\n",
    "insertion_sort(A)\n",
    "print(A)"
   ]
  },
  {
   "cell_type": "code",
   "execution_count": 21,
   "metadata": {},
   "outputs": [
    {
     "name": "stdout",
     "output_type": "stream",
     "text": [
      "[2, 4, 7, 9, 12, 16, 36, 45, 56, 83]\n"
     ]
    }
   ],
   "source": [
    "# merge sort\n",
    "def merge(array1, array2):\n",
    "    # pointers and new array\n",
    "    i = 0\n",
    "    j = 0\n",
    "    new_array = []\n",
    "    # while neither pointers have reached the end\n",
    "    while i < len(array1) and j < len(array2):\n",
    "        # if the current item in array1 is smaller, append it first\n",
    "        if array1[i] < array2[j]:\n",
    "            new_array.append(array1[i])\n",
    "            i += 1\n",
    "        # else, if the current item in array2 is smaller, append it first\n",
    "        else:\n",
    "            new_array.append(array2[j])\n",
    "            j += 1\n",
    "    # if we are at the end of array1, add the rest of array2\n",
    "    if i == len(array1):\n",
    "        new_array.extend(array2[j:])\n",
    "    # else, add the rest of array1\n",
    "    else:\n",
    "        new_array.extend(array1[i:])\n",
    "    return new_array\n",
    "\n",
    "def merge_sort(array):\n",
    "    # base case\n",
    "    if len(array) <= 1:\n",
    "        return array\n",
    "\n",
    "    mid = len(array) // 2\n",
    "    return merge(merge_sort(array[:mid]), merge_sort(array[mid:]))\n",
    "\n",
    "\n",
    "A = [56,2,45,9,7,83,12,36,4,16]\n",
    "A = merge_sort(A)\n",
    "print(A)"
   ]
  },
  {
   "cell_type": "code",
   "execution_count": 5,
   "metadata": {},
   "outputs": [
    {
     "name": "stdout",
     "output_type": "stream",
     "text": [
      "[2, 4, 7, 9, 12, 16, 36, 45, 56, 83]\n"
     ]
    }
   ],
   "source": [
    "# quicksort\n",
    "\n",
    "def quicksort(array):\n",
    "    # base case\n",
    "    if len(array) <= 1:\n",
    "        return array\n",
    "    # taking the first element as the pivot\n",
    "    pivot = array[0]\n",
    "    greater_than = [i for i in array[1:] if i > pivot]\n",
    "    lesser_equal = [i for i in array[1:] if i <= pivot]\n",
    "    return quicksort(lesser_equal) + [pivot] + quicksort(greater_than)\n",
    "\n",
    "A = [56,2,45,9,7,83,12,36,4,16]\n",
    "A = quicksort(A)\n",
    "print(A)"
   ]
  },
  {
   "cell_type": "code",
   "execution_count": 11,
   "metadata": {},
   "outputs": [
    {
     "name": "stdout",
     "output_type": "stream",
     "text": [
      "[2, 4, 7, 9, 12, 16, 36, 45, 56, 83]\n"
     ]
    }
   ],
   "source": [
    "# inplace quick sort\n",
    "\n",
    "def inplace_quick_sort(array, first, last):\n",
    "    # base case\n",
    "    if first >= last:\n",
    "        return\n",
    "\n",
    "    # left and right pointer\n",
    "    l = first\n",
    "    r = last - 1\n",
    "    pivot = array[last]\n",
    "    while l <= r:\n",
    "        # left pointer advances untill the next element is more than the pivot\n",
    "        while array[l] <= pivot and l <= r:\n",
    "            l += 1\n",
    "        # right pointer advances untill next element is less than pivot\n",
    "        while array[r] >= pivot and l <= r:\n",
    "            r -= 1\n",
    "        # swap the pinters\n",
    "        if l <= r:\n",
    "            array[l], array[r] = array[r], array[l]\n",
    "    # if the pointers cross, all of the items behind the left are lesser than the pivot\n",
    "    # all those on the right are more than the pivot\n",
    "    # replaces the item at the left pinter with the pivot\n",
    "    array[l], array[last] = array[last], array[l]\n",
    "    inplace_quick_sort(array, first, l - 1)\n",
    "    inplace_quick_sort(array, l + 1, last)\n",
    "\n",
    "A = [56,2,45,9,7,83,12,36,4,16]\n",
    "inplace_quick_sort(A, 0, len(A) - 1)\n",
    "print(A)\n",
    "\n",
    "    "
   ]
  }
 ],
 "metadata": {
  "kernelspec": {
   "display_name": "Python 3",
   "language": "python",
   "name": "python3"
  },
  "language_info": {
   "codemirror_mode": {
    "name": "ipython",
    "version": 3
   },
   "file_extension": ".py",
   "mimetype": "text/x-python",
   "name": "python",
   "nbconvert_exporter": "python",
   "pygments_lexer": "ipython3",
   "version": "3.12.2"
  }
 },
 "nbformat": 4,
 "nbformat_minor": 2
}
