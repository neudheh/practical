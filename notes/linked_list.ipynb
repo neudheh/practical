{
 "cells": [
  {
   "cell_type": "code",
   "execution_count": 24,
   "metadata": {},
   "outputs": [],
   "source": [
    "class Node:\n",
    "    # constuctor \n",
    "    def __init__(self, data):\n",
    "        self.data = data\n",
    "        self.next = None\n",
    "\n",
    "class LinkedList:\n",
    "    # constructor \n",
    "    def __init__(self):\n",
    "        self.head = None\n",
    "    \n",
    "    def is_empty(self):\n",
    "        \"\"\"checks if the linked list is empty by checking if the head is none\"\"\"\n",
    "        return self.head == None\n",
    "\n",
    "    def insert(self, data):\n",
    "        \"\"\"adds elements in ascending order\"\"\"\n",
    "        new_node = Node(data)\n",
    "        if self.is_empty():\n",
    "            self.head = new_node\n",
    "            return\n",
    "        # traverses down the linked list\n",
    "        curr = self.head\n",
    "        while curr != None and data >= curr.data:\n",
    "            prev = curr\n",
    "            curr = curr.next\n",
    "        # if the element is before the head, i.e. curr has not moved\n",
    "        if curr == self.head:\n",
    "            new_node.next = self.head\n",
    "            self.head = new_node\n",
    "        # else, just make the previous node point to the new one, and the new one points to the next.\n",
    "        else:\n",
    "            new_node.next = curr\n",
    "            prev.next = new_node\n",
    "\n",
    "    def search(self, data):\n",
    "        \"\"\"searchs for the data\"\"\"\n",
    "        # empty\n",
    "        if self.is_empty():\n",
    "            print(\"The linked list is empty\")\n",
    "            return False\n",
    "        # traverses down the linked list\n",
    "        curr = self.head\n",
    "        while curr != None and data > curr.data:\n",
    "            curr = curr.next\n",
    "        # could not find the data\n",
    "        if curr == None or curr.data != data:\n",
    "            print(f\"Could not find {data}\")\n",
    "            return False\n",
    "        # found\n",
    "        else:\n",
    "            print(f\"Found {data}\")\n",
    "            return True\n",
    "        \n",
    "    def delete(self, data):\n",
    "        \"\"\"deltes the node with the data\"\"\"\n",
    "        # empty\n",
    "        if self.is_empty():\n",
    "            print(\"The linked list is empty\")\n",
    "            return\n",
    "        # traverses down the liked list\n",
    "        curr = self.head\n",
    "        while curr != None and data > curr.data:\n",
    "            prev = curr\n",
    "            curr = curr.next\n",
    "        # could not find the data\n",
    "        if curr == None or curr.data != data:\n",
    "            print(f\"{data} does not exist\")\n",
    "        # deleting data at the start\n",
    "        elif curr == self.head:\n",
    "            self.head = self.head.next \n",
    "        # deleting data in between/ at the end\n",
    "        else:\n",
    "            prev.next = curr.next\n",
    "\n",
    "    def print(self):\n",
    "        \"\"\"prints the linked list\"\"\"\n",
    "        if self.is_empty():\n",
    "            print(\"The linked list is empty\")\n",
    "            return\n",
    "        \n",
    "        # traverses down the linked list getting every node's data\n",
    "        curr = self.head\n",
    "        data = []\n",
    "        while curr != None:\n",
    "            data.append(curr.data)\n",
    "            curr = curr.next\n",
    "\n",
    "        # prints the list\n",
    "        print(\" -> \".join(data))"
   ]
  },
  {
   "cell_type": "code",
   "execution_count": 25,
   "metadata": {},
   "outputs": [
    {
     "name": "stdout",
     "output_type": "stream",
     "text": [
      "Apple -> Durian -> Jackfruit -> Orange -> Pear\n"
     ]
    }
   ],
   "source": [
    "LL = LinkedList()\n",
    "LL.insert(\"Orange\")\n",
    "LL.insert(\"Apple\") \n",
    "LL.insert(\"Jackfruit\") \n",
    "LL.insert(\"Durian\")\n",
    "LL.insert(\"Pear\") \n",
    "LL.print() "
   ]
  },
  {
   "cell_type": "code",
   "execution_count": 26,
   "metadata": {},
   "outputs": [
    {
     "name": "stdout",
     "output_type": "stream",
     "text": [
      "Found Jackfruit\n",
      "Could not find Mango\n"
     ]
    },
    {
     "data": {
      "text/plain": [
       "False"
      ]
     },
     "execution_count": 26,
     "metadata": {},
     "output_type": "execute_result"
    }
   ],
   "source": [
    "LL.search(\"Jackfruit\") \n",
    "LL.search(\"Mango\")"
   ]
  },
  {
   "cell_type": "code",
   "execution_count": 27,
   "metadata": {},
   "outputs": [
    {
     "name": "stdout",
     "output_type": "stream",
     "text": [
      "Apple -> Durian -> Jackfruit -> Orange -> Pear\n",
      "Peach does not exist\n",
      "Jackfruit -> Orange\n"
     ]
    }
   ],
   "source": [
    "LL.print() \n",
    "LL.delete(\"Durian\") \n",
    "LL.delete(\"Peach\") \n",
    "LL.delete(\"Apple\") \n",
    "LL.delete(\"Pear\") \n",
    "LL.print()"
   ]
  }
 ],
 "metadata": {
  "kernelspec": {
   "display_name": "Python 3",
   "language": "python",
   "name": "python3"
  },
  "language_info": {
   "codemirror_mode": {
    "name": "ipython",
    "version": 3
   },
   "file_extension": ".py",
   "mimetype": "text/x-python",
   "name": "python",
   "nbconvert_exporter": "python",
   "pygments_lexer": "ipython3",
   "version": "3.12.2"
  }
 },
 "nbformat": 4,
 "nbformat_minor": 2
}
