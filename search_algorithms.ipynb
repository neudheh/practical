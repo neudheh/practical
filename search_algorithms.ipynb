{
  "nbformat": 4,
  "nbformat_minor": 0,
  "metadata": {
    "colab": {
      "provenance": [],
      "authorship_tag": "ABX9TyNh8FTObIfZPVPrwT1eZIWd",
      "include_colab_link": true
    },
    "kernelspec": {
      "name": "python3",
      "display_name": "Python 3"
    },
    "language_info": {
      "name": "python"
    }
  },
  "cells": [
    {
      "cell_type": "markdown",
      "metadata": {
        "id": "view-in-github",
        "colab_type": "text"
      },
      "source": [
        "<a href=\"https://colab.research.google.com/github/neudheh/practical/blob/main/search_algorithms.ipynb\" target=\"_parent\"><img src=\"https://colab.research.google.com/assets/colab-badge.svg\" alt=\"Open In Colab\"/></a>"
      ]
    },
    {
      "cell_type": "code",
      "execution_count": 6,
      "metadata": {
        "colab": {
          "base_uri": "https://localhost:8080/"
        },
        "id": "VnbL4UrahYdN",
        "outputId": "b670c869-d987-4742-9330-1fb76471d58c"
      },
      "outputs": [
        {
          "output_type": "stream",
          "name": "stdout",
          "text": [
            "4\n"
          ]
        }
      ],
      "source": [
        "# linear search\n",
        "\n",
        "def linear_search(array, target):\n",
        "    # loops through the array, if the current index's item matches,\n",
        "    # return the index\n",
        "    for i in range(len(array)):\n",
        "        if array[i] == target:\n",
        "            return i\n",
        "    # the target is not in the array\n",
        "    return -1\n",
        "\n",
        "print(linear_search([1,2,3,4,5], 5))"
      ]
    },
    {
      "cell_type": "code",
      "source": [
        "# binary search (iterative)\n",
        "\n",
        "def binary_search(array, target):\n",
        "    # has a upper and lower pointer\n",
        "    lower = 0\n",
        "    upper = len(array)\n",
        "    while lower <= upper: # while the pointers have not crossed\n",
        "        mid = (lower + upper) // 2 # pointer to get the item in the middle\n",
        "\n",
        "        # if the item in the middle of the search area is equal to the target,\n",
        "        # return the index\n",
        "        if array[mid] == target:\n",
        "            return mid\n",
        "        # else, if it is greater, search the lower half\n",
        "        elif array[mid] > target:\n",
        "            upper = mid - 1\n",
        "        # else, if it is lower, search the upper half\n",
        "        elif array[mid] < target:\n",
        "            lower = mid + 1\n",
        "    # the search has failed\n",
        "    return -1\n",
        "\n",
        "print(binary_search([1,2,3,4,5], 5))"
      ],
      "metadata": {
        "colab": {
          "base_uri": "https://localhost:8080/"
        },
        "id": "rzmAf2yviTRl",
        "outputId": "136f4355-67f8-4763-c792-741701133c03"
      },
      "execution_count": 8,
      "outputs": [
        {
          "output_type": "stream",
          "name": "stdout",
          "text": [
            "4\n"
          ]
        }
      ]
    },
    {
      "cell_type": "code",
      "source": [
        "# binary search (recursive)\n",
        "\n",
        "def binary_search_r (array, target, lower, upper):\n",
        "    # base case, upper pointer crosses lower\n",
        "    if lower > upper:\n",
        "        return -1\n",
        "    # else, find the mid\n",
        "    mid = (lower + upper) // 2\n",
        "    # if the item at the middle of the search area matches, return the index\n",
        "    if array[mid] == target:\n",
        "        return mid\n",
        "    # else, if it is greater, recurse on the lower half\n",
        "    elif array[mid] > target:\n",
        "        return binary_search_r(array, target, lower, mid - 1)\n",
        "    # else, if it is greater, recurse on the upper half\n",
        "    elif array[mid] < target:\n",
        "        return binary_search_r(array, target, mid + 1, upper)\n",
        "\n",
        "print(binary_search_r([1,2,3,4,5], 5, 0, len([1,2,3,4,5])))"
      ],
      "metadata": {
        "colab": {
          "base_uri": "https://localhost:8080/"
        },
        "id": "WX0tT6_lj3i2",
        "outputId": "5a8d6d6b-d56c-474f-e695-d89f969ba566"
      },
      "execution_count": 10,
      "outputs": [
        {
          "output_type": "stream",
          "name": "stdout",
          "text": [
            "4\n"
          ]
        }
      ]
    }
  ]
}